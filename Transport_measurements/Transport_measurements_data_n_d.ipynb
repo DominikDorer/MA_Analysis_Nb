{
 "cells": [
  {
   "cell_type": "code",
   "execution_count": 1,
   "metadata": {
    "collapsed": true
   },
   "outputs": [],
   "source": [
    "#Initialize"
   ]
  },
  {
   "cell_type": "code",
   "execution_count": 3,
   "metadata": {},
   "outputs": [
    {
     "name": "stdout",
     "output_type": "stream",
     "text": [
      "/Users/nico/qkit\n"
     ]
    }
   ],
   "source": [
    "%cd '/Users/nico/qkit'\n",
    "import qkit\n",
    "from qkit.storage import hdf_lib as hl\n",
    "import h5py as h5\n",
    "from pylab import *\n",
    "import numpy as np\n",
    "%matplotlib osx\n",
    "\n",
    "#%matplotlib inline"
   ]
  },
  {
   "cell_type": "code",
   "execution_count": 3,
   "metadata": {
    "collapsed": true
   },
   "outputs": [],
   "source": [
    "#create_a_new_h5_file_if_usefull"
   ]
  },
  {
   "cell_type": "code",
   "execution_count": 6,
   "metadata": {
    "collapsed": true
   },
   "outputs": [],
   "source": [
    "name = 'Hallo66.h5'\n",
    "h5d = hl.Data(path = name)#name='I_vs_R_Iulses')\n",
    "I_co = h5d.add_coordinate('I', unit = \"A\", comment = \"Current\")\n",
    "V_val= h5d.add_value_vector('V', x = None, unit = \"V\", comment = \"Voltage\")\n",
    "R_val= h5d.add_value_vector('R', x = None, unit = \"Ohm\", comment = \"Resistance\")\n",
    "TvsTc_view = h5d.add_view(\"f_vs_I\", x = I_co, y = V_val)"
   ]
  },
  {
   "cell_type": "code",
   "execution_count": 10,
   "metadata": {},
   "outputs": [
    {
     "ename": "AttributeError",
     "evalue": "'hdf_dataset' object has no attribute 'ds'",
     "output_type": "error",
     "traceback": [
      "\u001b[0;31m---------------------------------------------------------------------------\u001b[0m",
      "\u001b[0;31mAttributeError\u001b[0m                            Traceback (most recent call last)",
      "\u001b[0;32m<ipython-input-10-d669d25eedf1>\u001b[0m in \u001b[0;36m<module>\u001b[0;34m()\u001b[0m\n\u001b[0;32m----> 1\u001b[0;31m \u001b[0mR_val\u001b[0m\u001b[0;34m.\u001b[0m\u001b[0mappend\u001b[0m\u001b[0;34m(\u001b[0m\u001b[0;36m1.2\u001b[0m\u001b[0;34m/\u001b[0m\u001b[0;36m0.2\u001b[0m\u001b[0;34m)\u001b[0m\u001b[0;34m\u001b[0m\u001b[0m\n\u001b[0m\u001b[1;32m      2\u001b[0m \u001b[0mV_val\u001b[0m\u001b[0;34m.\u001b[0m\u001b[0mappend\u001b[0m\u001b[0;34m(\u001b[0m\u001b[0;36m0.2\u001b[0m\u001b[0;34m)\u001b[0m\u001b[0;34m\u001b[0m\u001b[0m\n\u001b[1;32m      3\u001b[0m \u001b[0mI_co\u001b[0m\u001b[0;34m.\u001b[0m\u001b[0mappend\u001b[0m\u001b[0;34m(\u001b[0m\u001b[0;36m12.2\u001b[0m\u001b[0;34m)\u001b[0m\u001b[0;34m\u001b[0m\u001b[0m\n",
      "\u001b[0;32m/Users/nico/qkit/qkit/storage/hdf_dataset.pyc\u001b[0m in \u001b[0;36mappend\u001b[0;34m(self, data)\u001b[0m\n\u001b[1;32m    178\u001b[0m             \u001b[0;32melse\u001b[0m\u001b[0;34m:\u001b[0m\u001b[0;34m\u001b[0m\u001b[0m\n\u001b[1;32m    179\u001b[0m                 \u001b[0mdata\u001b[0m \u001b[0;34m=\u001b[0m \u001b[0mnumpy\u001b[0m\u001b[0;34m.\u001b[0m\u001b[0marray\u001b[0m\u001b[0;34m(\u001b[0m\u001b[0mdata\u001b[0m\u001b[0;34m,\u001b[0m\u001b[0mdtype\u001b[0m\u001b[0;34m=\u001b[0m\u001b[0mself\u001b[0m\u001b[0;34m.\u001b[0m\u001b[0mdtype\u001b[0m\u001b[0;34m)\u001b[0m\u001b[0;34m\u001b[0m\u001b[0m\n\u001b[0;32m--> 180\u001b[0;31m                 \u001b[0mself\u001b[0m\u001b[0;34m.\u001b[0m\u001b[0mhf\u001b[0m\u001b[0;34m.\u001b[0m\u001b[0mappend\u001b[0m\u001b[0;34m(\u001b[0m\u001b[0mself\u001b[0m\u001b[0;34m.\u001b[0m\u001b[0mds\u001b[0m\u001b[0;34m,\u001b[0m\u001b[0mdata\u001b[0m\u001b[0;34m)\u001b[0m\u001b[0;34m\u001b[0m\u001b[0m\n\u001b[0m\u001b[1;32m    181\u001b[0m             \u001b[0;32mif\u001b[0m \u001b[0mself\u001b[0m\u001b[0;34m.\u001b[0m\u001b[0m_save_timestamp\u001b[0m\u001b[0;34m:\u001b[0m\u001b[0;34m\u001b[0m\u001b[0m\n\u001b[1;32m    182\u001b[0m                 \u001b[0mself\u001b[0m\u001b[0;34m.\u001b[0m\u001b[0mhf\u001b[0m\u001b[0;34m.\u001b[0m\u001b[0mappend\u001b[0m\u001b[0;34m(\u001b[0m\u001b[0mself\u001b[0m\u001b[0;34m.\u001b[0m\u001b[0mds_ts\u001b[0m\u001b[0;34m,\u001b[0m\u001b[0mnumpy\u001b[0m\u001b[0;34m.\u001b[0m\u001b[0marray\u001b[0m\u001b[0;34m(\u001b[0m\u001b[0mtime\u001b[0m\u001b[0;34m.\u001b[0m\u001b[0mtime\u001b[0m\u001b[0;34m(\u001b[0m\u001b[0;34m)\u001b[0m\u001b[0;34m)\u001b[0m\u001b[0;34m)\u001b[0m\u001b[0;34m\u001b[0m\u001b[0m\n",
      "\u001b[0;31mAttributeError\u001b[0m: 'hdf_dataset' object has no attribute 'ds'"
     ]
    }
   ],
   "source": [
    "R_val.append(1.2/0.2)\n",
    "V_val.append(0.2)\n",
    "I_co.append(12.2)"
   ]
  },
  {
   "cell_type": "code",
   "execution_count": 8,
   "metadata": {
    "collapsed": true
   },
   "outputs": [],
   "source": [
    "#Import the h5 data:\n",
    "#import h5py as h5"
   ]
  },
  {
   "cell_type": "code",
   "execution_count": 185,
   "metadata": {},
   "outputs": [
    {
     "name": "stdout",
     "output_type": "stream",
     "text": [
      "\u001b[31m180835_I_vs_R_15_4_100nm_st50e11_110nA_slow_540mK.h5\u001b[m\u001b[m*\r\n"
     ]
    }
   ],
   "source": [
    "ls"
   ]
  },
  {
   "cell_type": "code",
   "execution_count": 184,
   "metadata": {},
   "outputs": [
    {
     "data": {
      "text/plain": [
       "u'/Users/nico/Google Drive/master_thesis/Measurements/145_c7_transport_measurements_at_base_temp/15_4_100nm/180835_I_vs_R_15_4_100nm_st50e11_110nA_slow_540mK'"
      ]
     },
     "execution_count": 184,
     "metadata": {},
     "output_type": "execute_result"
    }
   ],
   "source": [
    "pwd"
   ]
  },
  {
   "cell_type": "code",
   "execution_count": 180,
   "metadata": {},
   "outputs": [
    {
     "ename": "SyntaxError",
     "evalue": "invalid syntax (<ipython-input-180-c7092311283d>, line 1)",
     "output_type": "error",
     "traceback": [
      "\u001b[0;36m  File \u001b[0;32m\"<ipython-input-180-c7092311283d>\"\u001b[0;36m, line \u001b[0;32m1\u001b[0m\n\u001b[0;31m    cd /Users/nico/Google_Drive/master_thesis/Measurements/145_c7_transport_measurements_at_base_temp/15_4_100nm/\u001b[0m\n\u001b[0m                                                                                                    ^\u001b[0m\n\u001b[0;31mSyntaxError\u001b[0m\u001b[0;31m:\u001b[0m invalid syntax\n"
     ]
    }
   ],
   "source": [
    "cd /Users/nico/Google_Drive/master_thesis/Measurements/145_c7_transport_measurements_at_base_temp/15_4_100nm/\n",
    "\n"
   ]
  },
  {
   "cell_type": "code",
   "execution_count": 268,
   "metadata": {},
   "outputs": [
    {
     "name": "stdout",
     "output_type": "stream",
     "text": [
      "[ -8.25000000e-09  -8.75000000e-09  -9.25000000e-09  -9.75000000e-09\n",
      "  -1.02500000e-08  -1.07500000e-08  -1.12500000e-08  -1.17500000e-08\n",
      "  -1.22500000e-08  -1.27500000e-08  -1.32500000e-08  -1.37500000e-08\n",
      "  -1.42500000e-08  -1.47500000e-08  -1.52500000e-08  -1.57500000e-08\n",
      "  -1.62500000e-08  -1.67500000e-08  -1.72500000e-08  -1.77500000e-08\n",
      "  -1.82500000e-08  -1.87500000e-08  -1.92500000e-08  -1.97500000e-08\n",
      "  -2.02500000e-08  -2.07500000e-08  -2.12500000e-08  -2.17500000e-08\n",
      "  -2.22500000e-08  -2.27500000e-08  -2.32500000e-08  -2.37500000e-08\n",
      "  -2.42500000e-08  -2.47500000e-08  -2.52500000e-08  -2.57500000e-08\n",
      "  -2.62500000e-08  -2.67500000e-08  -2.72500000e-08  -2.77500000e-08\n",
      "  -2.82500000e-08  -2.87500000e-08  -2.92500000e-08  -2.97500000e-08\n",
      "  -3.02500000e-08  -3.07500000e-08  -3.12500000e-08  -3.17500000e-08\n",
      "  -3.22500000e-08  -3.27500000e-08  -3.32500000e-08  -3.37500000e-08\n",
      "  -3.42500000e-08  -3.47500000e-08  -3.52500000e-08  -3.57500000e-08\n",
      "  -3.62500000e-08  -3.67500000e-08  -3.72500000e-08  -3.77500000e-08\n",
      "  -3.82500000e-08  -3.87500000e-08  -3.92500000e-08  -3.97500000e-08\n",
      "  -4.02500000e-08  -4.07500000e-08  -4.12500000e-08  -4.17500000e-08\n",
      "  -4.22500000e-08  -4.27500000e-08  -4.32500000e-08  -4.37500000e-08\n",
      "  -4.42500000e-08  -4.47500000e-08  -4.52500000e-08  -4.57500000e-08\n",
      "  -4.62500000e-08  -4.67500000e-08  -4.72500000e-08  -4.77500000e-08\n",
      "  -4.82500000e-08  -4.87500000e-08  -4.92500000e-08  -4.97500000e-08\n",
      "  -5.02500000e-08  -5.07500000e-08  -5.12500000e-08  -5.17500000e-08\n",
      "  -5.22500000e-08  -5.27500000e-08  -5.32500000e-08  -5.37500000e-08\n",
      "  -5.42500000e-08  -5.47500000e-08  -5.52500000e-08  -5.57500000e-08\n",
      "  -5.62500000e-08  -5.67500000e-08  -5.72500000e-08  -5.77500000e-08\n",
      "  -5.82500000e-08  -5.87500000e-08  -5.92500000e-08  -5.97500000e-08\n",
      "  -6.02500000e-08  -6.07500000e-08  -6.12500000e-08  -6.17500000e-08\n",
      "  -6.22500000e-08  -6.27500000e-08  -6.32500000e-08  -6.37500000e-08\n",
      "  -6.42500000e-08  -6.47500000e-08  -6.52500000e-08  -6.57500000e-08\n",
      "  -6.62500000e-08  -6.67500000e-08  -6.72500000e-08  -6.77500000e-08\n",
      "  -6.82500000e-08  -6.87500000e-08  -6.92500000e-08  -6.97500000e-08\n",
      "  -7.02500000e-08  -7.07500000e-08  -7.12500000e-08  -7.17500000e-08\n",
      "  -7.22500000e-08  -7.27500000e-08  -7.32500000e-08  -7.37500000e-08\n",
      "  -7.42500000e-08  -7.47500000e-08  -7.52500000e-08  -7.57500000e-08\n",
      "  -7.62500000e-08  -7.67500000e-08  -7.72500000e-08  -7.77500000e-08\n",
      "  -7.82500000e-08  -7.87500000e-08  -7.92500000e-08  -7.97500000e-08\n",
      "  -8.02500000e-08  -8.07500000e-08  -8.12500000e-08  -8.17500000e-08\n",
      "  -8.22500000e-08  -8.27500000e-08  -8.32500000e-08  -8.37500000e-08\n",
      "  -8.42500000e-08  -8.47500000e-08  -8.52500000e-08  -8.57500000e-08\n",
      "  -8.62500000e-08  -8.67500000e-08  -8.72500000e-08  -8.77500000e-08\n",
      "  -8.82500000e-08  -8.87500000e-08  -8.92500000e-08  -8.97500000e-08\n",
      "  -9.02500000e-08  -9.07500000e-08  -9.12500000e-08  -9.17500000e-08\n",
      "  -9.22500000e-08  -9.27500000e-08  -9.32500000e-08  -9.37500000e-08\n",
      "  -9.42500000e-08  -9.47500000e-08  -9.52500000e-08  -9.57500000e-08\n",
      "  -9.62500000e-08  -9.67500000e-08  -9.72500000e-08  -9.77500000e-08\n",
      "  -9.82500000e-08  -9.87500000e-08  -9.92500000e-08  -9.97500000e-08\n",
      "  -1.00250000e-07  -1.00750000e-07  -1.01250000e-07  -1.01750000e-07\n",
      "  -1.02250000e-07  -1.02750000e-07  -1.03250000e-07  -1.03750000e-07\n",
      "  -1.04250000e-07  -1.04750000e-07  -1.05250000e-07  -1.05750000e-07\n",
      "  -1.06250000e-07  -1.06750000e-07  -1.07250000e-07  -1.07750000e-07\n",
      "  -1.08250000e-07  -1.08750000e-07  -1.09250000e-07  -1.09750000e-07\n",
      "  -1.10250000e-07  -1.10750000e-07  -1.11250000e-07  -1.11750000e-07\n",
      "  -1.12250000e-07  -1.12750000e-07  -1.13250000e-07  -1.13750000e-07\n",
      "  -1.14250000e-07  -1.14750000e-07  -1.15250000e-07  -1.15750000e-07\n",
      "  -1.16250000e-07  -1.16750000e-07  -1.17250000e-07  -1.17750000e-07\n",
      "  -1.18250000e-07  -1.18750000e-07  -1.19250000e-07  -1.19750000e-07\n",
      "  -1.20250000e-07  -1.20750000e-07  -1.21250000e-07  -1.21750000e-07\n",
      "  -1.22250000e-07  -1.22750000e-07  -1.23250000e-07  -1.23750000e-07\n",
      "  -1.24250000e-07  -1.24750000e-07  -1.25250000e-07  -1.25750000e-07\n",
      "  -1.26250000e-07  -1.26750000e-07  -1.27250000e-07  -1.27750000e-07\n",
      "  -1.28250000e-07  -1.28750000e-07  -1.29250000e-07  -1.29750000e-07\n",
      "  -1.30250000e-07  -1.30750000e-07  -1.31250000e-07  -1.31750000e-07\n",
      "  -1.32250000e-07  -1.32750000e-07  -1.33250000e-07  -1.33750000e-07\n",
      "  -1.34250000e-07  -1.34750000e-07  -1.35250000e-07  -1.35750000e-07\n",
      "  -1.36250000e-07  -1.36750000e-07  -1.37250000e-07  -1.37750000e-07\n",
      "  -1.38250000e-07  -1.38750000e-07  -1.39250000e-07  -1.39750000e-07\n",
      "  -1.40250000e-07  -1.40750000e-07  -1.41250000e-07  -1.41750000e-07\n",
      "  -1.42250000e-07  -1.42750000e-07  -1.43250000e-07  -1.43750000e-07\n",
      "  -1.44250000e-07  -1.44750000e-07  -1.45250000e-07  -1.45750000e-07\n",
      "  -1.46250000e-07  -1.46750000e-07  -1.47250000e-07  -1.47750000e-07\n",
      "  -1.48250000e-07  -1.48750000e-07  -1.49250000e-07  -1.49750000e-07\n",
      "  -1.50250000e-07  -1.50750000e-07  -1.51250000e-07  -1.51750000e-07\n",
      "  -1.52250000e-07  -1.52750000e-07  -1.53250000e-07  -1.53750000e-07\n",
      "  -1.54250000e-07  -1.54750000e-07  -1.55250000e-07  -1.55750000e-07\n",
      "  -1.56250000e-07  -1.56750000e-07  -1.57250000e-07  -1.57750000e-07\n",
      "  -1.58250000e-07  -1.58750000e-07  -1.59250000e-07  -1.59750000e-07\n",
      "  -1.60250000e-07  -1.60750000e-07  -1.61250000e-07  -1.61750000e-07\n",
      "  -1.62250000e-07  -1.62750000e-07  -1.63250000e-07  -1.63750000e-07\n",
      "  -1.64250000e-07  -1.64750000e-07  -1.65250000e-07  -1.65750000e-07\n",
      "  -1.66250000e-07  -1.66750000e-07  -1.67250000e-07  -1.67750000e-07\n",
      "  -1.68250000e-07  -1.68750000e-07  -1.69250000e-07  -1.69750000e-07\n",
      "  -1.70250000e-07  -1.70750000e-07  -1.71250000e-07  -1.71750000e-07\n",
      "  -1.72250000e-07  -1.72750000e-07  -1.73250000e-07  -1.73750000e-07\n",
      "  -1.74250000e-07  -1.74750000e-07  -1.75250000e-07  -1.75750000e-07\n",
      "  -1.76250000e-07  -1.76750000e-07  -1.77250000e-07  -1.77750000e-07\n",
      "  -1.78250000e-07  -1.78750000e-07  -1.79250000e-07  -1.79750000e-07\n",
      "  -1.80250000e-07  -1.80750000e-07  -1.81250000e-07  -1.81750000e-07\n",
      "  -1.82250000e-07  -1.82750000e-07  -1.83250000e-07  -1.83750000e-07\n",
      "  -1.84250000e-07  -1.84750000e-07  -1.85250000e-07  -1.85750000e-07\n",
      "  -1.86250000e-07  -1.86750000e-07  -1.87250000e-07  -1.87750000e-07\n",
      "  -1.88250000e-07  -1.88750000e-07  -1.89250000e-07  -1.89750000e-07\n",
      "  -1.90250000e-07  -1.90750000e-07  -1.91250000e-07  -1.91750000e-07\n",
      "  -1.92250000e-07  -1.92750000e-07  -1.93250000e-07  -1.93750000e-07\n",
      "  -1.94250000e-07  -1.94750000e-07  -1.95250000e-07  -1.95750000e-07\n",
      "  -1.96250000e-07  -1.96750000e-07  -1.97250000e-07  -1.97750000e-07\n",
      "  -1.98250000e-07  -1.98750000e-07  -1.99250000e-07  -1.99750000e-07\n",
      "  -2.00250000e-07  -2.00750000e-07  -2.01250000e-07  -2.01750000e-07\n",
      "  -2.02250000e-07  -2.02750000e-07  -2.03250000e-07  -2.03750000e-07\n",
      "  -2.04250000e-07  -2.04750000e-07  -2.05250000e-07  -2.05750000e-07\n",
      "  -2.06250000e-07  -2.06750000e-07  -2.07250000e-07  -2.07750000e-07\n",
      "  -2.08250000e-07  -2.08750000e-07  -2.09250000e-07  -2.09750000e-07\n",
      "  -2.10250000e-07  -2.10750000e-07  -2.11250000e-07  -2.11750000e-07\n",
      "  -2.12250000e-07  -2.12750000e-07  -2.13250000e-07  -2.13750000e-07\n",
      "  -2.14250000e-07  -2.14750000e-07  -2.15250000e-07  -2.15750000e-07\n",
      "  -2.16250000e-07  -2.16750000e-07  -2.17250000e-07  -2.17750000e-07\n",
      "  -2.18250000e-07  -2.18750000e-07  -2.19250000e-07  -2.19750000e-07\n",
      "  -2.20250000e-07  -2.20750000e-07  -2.21250000e-07  -2.21750000e-07\n",
      "  -2.22250000e-07  -2.22750000e-07  -2.23250000e-07  -2.23750000e-07\n",
      "  -2.24250000e-07  -2.24750000e-07  -2.25250000e-07  -2.25750000e-07\n",
      "  -2.26250000e-07  -2.26750000e-07  -2.27250000e-07  -2.27750000e-07\n",
      "  -2.28250000e-07  -2.28750000e-07  -2.29250000e-07  -2.29750000e-07\n",
      "  -2.30250000e-07  -2.30750000e-07  -2.31250000e-07  -2.31750000e-07\n",
      "  -2.32250000e-07  -2.32750000e-07  -2.33250000e-07  -2.33750000e-07\n",
      "  -2.34250000e-07  -2.34750000e-07  -2.35250000e-07  -2.35750000e-07\n",
      "  -2.36250000e-07  -2.36750000e-07  -2.37250000e-07  -2.37750000e-07\n",
      "  -2.38250000e-07  -2.38750000e-07  -2.39250000e-07  -2.39750000e-07\n",
      "  -2.40250000e-07  -2.40750000e-07  -2.41250000e-07  -2.41750000e-07\n",
      "  -2.42250000e-07  -2.42750000e-07  -2.43216667e-07  -2.43650000e-07\n",
      "  -2.44050000e-07  -2.44416667e-07  -2.44750000e-07  -2.45050000e-07\n",
      "  -2.45316667e-07  -2.45550000e-07  -2.45750000e-07  -2.45916667e-07\n",
      "  -2.46050000e-07  -2.46150000e-07  -2.46216667e-07  -2.46250000e-07\n",
      "  -2.46250000e-07]\n",
      "[ -8.25000000e-09  -8.25238002e-09  -8.25476005e-09 ...,  -2.46245240e-07\n",
      "  -2.46247620e-07  -2.46250000e-07]\n"
     ]
    }
   ],
   "source": [
    "#/Users/nico/Google Drive/master_thesis/Measurements/145_c7_transport_measurements_at_base_temp/17_6_1000nm/nice_slow_221009_V_bias_I_vs_R_17_6_1000nm_0_15mV_st0005_fast_trig_im_range\n",
    "\n",
    "#data = h5.File('/Users/nico/Google Drive/master_thesis/Measurements/145_c7_transport_measurements_at_base_temp/17_6_1000nm/nice_slow_221009_V_bias_I_vs_R_17_6_1000nm_0_15mV_st0005_fast_trig_im_range/221009_V_bias_I_vs_R_17_6_1000nm_0_15mV_st0005_fast_trig_im_range.h5') \n",
    "               #name (set_obaove)or: 'file_name_in_dir\n",
    "\n",
    "    \n",
    "    \n",
    "#data = h5.File('/Users/nico/Google Drive/master_thesis/Measurements/145_c7_transport_measurements_at_base_temp/15_4_100nm/172416_I_vs_R_15_4_100nm_st20e11_110nA_slow_600mK_hyst/172416_I_vs_R_15_4_100nm_st20e11_110nA_slow.h5')\n",
    "\n",
    "data = h5.File('/Users/nico/Google Drive/master_thesis/Measurements/145_c7_transport_measurements_at_base_temp/15_4_100nm/180835_I_vs_R_15_4_100nm_st50e11_110nA_slow_540mK/180835_I_vs_R_15_4_100nm_st50e11_110nA_slow_540mK.h5')\n",
    "\n",
    "di = np.array(data['/entry/data0/i']) #see what coordinates or value_vectors intrances and create np arrays\n",
    "dv = np.array(data['/entry/data0/v']) #see what coordinates or value_vectors intrances\n",
    "\n",
    "di_avg = running_mean(di,30)\n",
    "dv_avg = running_mean(dv,30)\n",
    "\n",
    "def sweep_sep_plot(data_i, data_v, sweep):\n",
    "\n",
    "    dv_up_pos = []\n",
    "    di_up_pos = []\n",
    "    dv_down_pos = []\n",
    "    di_down_pos = []\n",
    "    dv_up_neg = []\n",
    "    di_up_neg = []\n",
    "    dv_down_neg = []\n",
    "    di_down_neg = []\n",
    "\n",
    "    if sweep == 'I':\n",
    "        \n",
    "        ma = np.argmax(data_i)\n",
    "        mi = np.argmin(data_i)\n",
    "        l = len(data_i)\n",
    "        \n",
    "    elif sweep == 'V':\n",
    "        ma = np.argmax(data_v)\n",
    "        mi = np.argmin(data_v)\n",
    "        l = len(data_v)\n",
    "\n",
    "    for i in range (ma+1):\n",
    "        dv_up_pos.append(data_v[i])\n",
    "        di_up_pos.append(data_i[i])\n",
    "    \n",
    "    for i in range (ma+1,2*ma):\n",
    "        dv_down_pos.append(data_v[i])\n",
    "        di_down_pos.append(data_i[i]) \n",
    "        \n",
    "    for i in range (2*ma, mi):\n",
    "        dv_up_neg.append(data_v[i])\n",
    "        di_up_neg.append(data_i[i])\n",
    "    \n",
    "    for i in range (mi,l):\n",
    "        dv_down_neg.append(data_v[i])\n",
    "        di_down_neg.append(data_i[i]) \n",
    "    \n",
    "    figure('data and splines')\n",
    "    #plot(dv_up_pos,di_up_pos, marker = 'x', linestyle = '',markersize = 3, label = '1')\n",
    "    #plot(dv_down_pos,di_down_pos, marker = 'x', linestyle = '',markersize = 3,label = '2')\n",
    "    #plot(dv_up_neg,di_up_neg, marker = 'x', linestyle = '',markersize = 3,label = '3')\n",
    "    #plot(dv_down_neg,di_down_neg, marker = 'x', linestyle = '',markersize = 3,label = '4')\n",
    "    plt.ylabel('current in A')  \n",
    "    plt.xlabel('voltage in V')\n",
    "    legend()\n",
    "    \n",
    "    \n",
    "    \n",
    "    \n",
    "    \n",
    "    ###################Spline#####################################\n",
    "    \n",
    "    \n",
    "    \n",
    "    #define spline and derivative for further analysis - resistance\n",
    "    \n",
    "    sm = 1e-6 #smoothin -> if zero: splin goes through every point\n",
    "    pot = 3   #polynomial order\n",
    "    nop = 100000 #number of points\n",
    "    der = 1     #derivative\n",
    "    \n",
    "    \n",
    "    \n",
    "    #parameters - turn on and off the splin fuctions:\n",
    "    \n",
    "    \n",
    "    from scipy.interpolate import UnivariateSpline, InterpolatedUnivariateSpline #import functions\n",
    "    \n",
    "    if sweep == 'V':\n",
    "        \n",
    "        #positive (V_sweep):\n",
    "        \n",
    "        #########up########\n",
    "        \n",
    "        #spline and range\n",
    "        spline = UnivariateSpline(dv_up_pos,di_up_pos,s=0,k=3)\n",
    "        x_range = linspace(dv_up_pos[0],dv_up_pos[-1],100000)\n",
    "        spline_2d = spline.derivative(n=1) \n",
    "        \n",
    "\n",
    "    \n",
    "    \n",
    "        ########down#######\n",
    "        \n",
    "        #flip the array - spline needs increaing values: \n",
    "        dv_down_pos_flip = np.flip(dv_down_pos,0)\n",
    "        di_down_pos_flip = np.flip(di_down_pos,0)\n",
    "        \n",
    "        \n",
    "        #spline and range\n",
    "        spline_2 = UnivariateSpline(dv_down_pos_flip,di_down_pos_flip,s=0,k=3)\n",
    "        x_range_2 = linspace(dv_down_pos_flip[0],dv_down_pos_flip[-1],100000)\n",
    "        spline_2_2d = spline_2.derivative(n=1)\n",
    "        \n",
    "        \n",
    "        \n",
    "        \n",
    "        #negative (V_sweep) :\n",
    "        \n",
    "        #########up########\n",
    "        \n",
    "        #spline and range\n",
    "        spline_3 = UnivariateSpline(dv_up_neg,di_up_neg,s=0,k=3)\n",
    "        x_range_3 = linspace(dv_up_neg[0],dv_up_neg[-1],100000)\n",
    "        spline_3_2d = spline.derivative(n=1) \n",
    "        \n",
    "\n",
    "    \n",
    "    \n",
    "        ########down#######\n",
    "        \n",
    "        #flip the array - spline needs increaing values: \n",
    "        dv_down_neg_flip = np.flip(dv_down_neg,0)\n",
    "        di_down_neg_flip = np.flip(di_down_neg,0)\n",
    "        \n",
    "        \n",
    "        #spline and range\n",
    "        spline_4 = UnivariateSpline(dv_down_neg_flip,di_down_neg_flip,s=0,k=3)\n",
    "        x_range_4 = linspace(dv_down_neg_flip[0],dv_down_neg_flip[-1],100000)\n",
    "        spline_4_2d = spline_4.derivative(n=1)\n",
    "        \n",
    "        \n",
    "        \n",
    "        \n",
    "        \n",
    "        #########plot's########\n",
    "        \n",
    "        plot(spline(x_range),x_range) #plot up (1)               \n",
    "        plot(x_range_2,spline_2(x_range_2)) #plot down (2)\n",
    "    \n",
    "    \n",
    "    \n",
    "    \n",
    "    elif sweep == 'I':\n",
    "                \n",
    "#########positive (I_sweep):\n",
    "        \n",
    "        #########up########\n",
    "        \n",
    "        #spline and range\n",
    "        spline = UnivariateSpline(di_up_pos,dv_up_pos,s=0,k=3)\n",
    "        x_range = linspace(di_up_pos[0],di_up_pos[-1],100000)\n",
    "        spline_2d = spline.derivative(n=1)\n",
    "        \n",
    "        \n",
    "        \n",
    "        \n",
    "        ########down#######\n",
    "        \n",
    "        #flip the array - spline needs increaing values: \n",
    "        dv_down_pos_flip = np.flip(dv_down_pos,0)\n",
    "        di_down_pos_flip = np.flip(di_down_pos,0)\n",
    "        \n",
    "                \n",
    "        \n",
    "        #spline and range\n",
    "        spline_2 = UnivariateSpline(di_down_pos_flip,dv_down_pos_flip,k=5,s=0.000)\n",
    "        x_range_2 = linspace(di_down_pos_flip[0],di_down_pos_flip[-1],1000)\n",
    "        spline_2_2d = spline_2.derivative(n=1)\n",
    "        \n",
    "        \n",
    "#########negative (I_sweep):\n",
    "#        di_up_neg_n = []\n",
    "#        l = len(di_up_neg)\n",
    "        \n",
    "#        for i in range (l):\n",
    "#            di_up_neg_n.append(di_up_neg[i] +100)\n",
    "\n",
    "\n",
    "\n",
    "        \n",
    "        #########up########\n",
    "        \n",
    "        #flip the array - spline needs increaing values: \n",
    "        dv_up_neg_flip = np.flip(dv_down_neg,0)\n",
    "        di_up_neg_flip = np.flip(di_down_neg,0)\n",
    "        print di_up_neg_flip\n",
    "        \n",
    "        \n",
    "        #spline and range\n",
    "        spline_3 = UnivariateSpline(di_up_neg_flip,dv_up_neg_flip,s=0,k=3)\n",
    "        x_range_3 = linspace(di_up_neg_flip[0],di_up_neg_flip[-1],100000)\n",
    "        print x_range_3\n",
    "        spline_3_2d = spline_3.derivative(n=1)\n",
    "        \n",
    "        \n",
    "        \n",
    "        \n",
    "        ########down#######\n",
    "        \n",
    "\n",
    "                \n",
    "        \n",
    "        #spline and range\n",
    "        #spline_4 = UnivariateSpline(di_down_neg_flip,dv_down_neg_flip,k=5,s=0.000)\n",
    "        #x_range_4 = linspace(di_down_neg_flip[0],di_down_neg_flip[-1],1000)\n",
    "        #spline_4_2d = spline_4.derivative(n=1)\n",
    "         \n",
    "        \n",
    "        \n",
    "        #########plot's########\n",
    "        \n",
    "        \n",
    "        \n",
    "        #plot(spline(x_range),x_range) #(1)\n",
    "        #plot(spline_2(x_range_2),x_range_2) #(2)\n",
    "        plot(spline_3(x_range_3),x_range_3) #(3)\n",
    "        #plot(spline_4(x_range_4),x_range_4) #(4)\n",
    "        \n",
    "        \n",
    "        ####derivatives:#####\n",
    "        \n",
    "        figure('derivative')\n",
    "        #plot(x_range, spline_2d(x_range)) #(1)\n",
    "        #plot(x_range_2, spline_2_2d(x_range_2)) #(2)\n",
    "        #plot(x_range_3, spline_3_2d(x_range_3)) #(2)\n",
    "        #plot(x_range_4, spline_4_2d(x_range_4)) #(2)\n",
    "        \n",
    "        \n",
    "        \n",
    "        \n",
    "        \n",
    "        \n",
    "\n",
    "\n",
    "        \n",
    "    \n",
    "    \n",
    "    \n",
    "    \n",
    "    \n",
    "    \n",
    "        \n",
    "sweep_sep_plot(di_avg, dv_avg, 'I')\n",
    "\n"
   ]
  },
  {
   "cell_type": "code",
   "execution_count": 138,
   "metadata": {},
   "outputs": [
    {
     "ename": "NameError",
     "evalue": "name 'spline_2' is not defined",
     "output_type": "error",
     "traceback": [
      "\u001b[0;31m---------------------------------------------------------------------------\u001b[0m",
      "\u001b[0;31mNameError\u001b[0m                                 Traceback (most recent call last)",
      "\u001b[0;32m<ipython-input-138-d691f53a2fb9>\u001b[0m in \u001b[0;36m<module>\u001b[0;34m()\u001b[0m\n\u001b[0;32m----> 1\u001b[0;31m \u001b[0mspline_2\u001b[0m\u001b[0;34m(\u001b[0m\u001b[0mx_range_2\u001b[0m\u001b[0;34m)\u001b[0m\u001b[0;34m\u001b[0m\u001b[0m\n\u001b[0m",
      "\u001b[0;31mNameError\u001b[0m: name 'spline_2' is not defined"
     ]
    }
   ],
   "source": [
    "spline_2(x_range_2)"
   ]
  },
  {
   "cell_type": "code",
   "execution_count": 24,
   "metadata": {},
   "outputs": [],
   "source": [
    "from scipy.interpolate import UnivariateSpline\n",
    "UnivariateSpline?"
   ]
  },
  {
   "cell_type": "code",
   "execution_count": 110,
   "metadata": {
    "collapsed": true
   },
   "outputs": [],
   "source": [
    "#plot\n",
    "\n",
    "\n",
    "\n",
    "plot(dv,di)  #or direct plot(np.array(data['/entry/data0/i']),np.array(data['/entry/data0/v']),'.-') (,'.-')\n",
    "plot(dv_avg,di_avg)\n",
    "plt.ylabel('current in A')  \n",
    "plt.xlabel('voltage in V')\n",
    "\n",
    "#open_external_window - needs_on_osx: %matplotlib osx\n",
    "plt.show()\n",
    "\n",
    "#save_image\n",
    "#plt.savefig('v_i_curve.png')\n",
    "\n",
    "\n"
   ]
  },
  {
   "cell_type": "code",
   "execution_count": 78,
   "metadata": {
    "collapsed": true
   },
   "outputs": [],
   "source": [
    "#way_functions:\n",
    "\n",
    "def way_function(data):\n",
    "    way_up = []\n",
    "    \n",
    "    ma = np.argmin(data)\n",
    "    mi = min.index(data)\n",
    "    \n",
    "    if i <= ma:\n",
    "        \n",
    "\n",
    "\n",
    "\n",
    "\n",
    "\n",
    "\n"
   ]
  },
  {
   "cell_type": "code",
   "execution_count": 5,
   "metadata": {
    "collapsed": true
   },
   "outputs": [],
   "source": [
    "#mean_float_function \n",
    "#window = 5\n",
    "def running_mean(data, window):\n",
    "    data_avg = np.zeros(len(data)-window) #,dtype=np.int\n",
    "    for i in  range(len(data)):\n",
    "        if i < len(data)-window:\n",
    "            data_avg[i] = np.average(data[i:(i+window)])\n",
    "    return data_avg\n",
    "\n",
    "#print running_mean(di,5)\n",
    "#print len(running_mean(di,5))\n"
   ]
  },
  {
   "cell_type": "code",
   "execution_count": null,
   "metadata": {
    "collapsed": true
   },
   "outputs": [],
   "source": [
    "plt.plot(np.array(data_val)[:,0]*1E6,np.array(data_val)[:,1],'.-')\n",
    "plt.xlabel('current in uA')\n",
    "plt.ylabel('voltage in V')\n",
    "plt.savefig('d:v_i_curve.png')"
   ]
  },
  {
   "cell_type": "code",
   "execution_count": 201,
   "metadata": {},
   "outputs": [
    {
     "ename": "NameError",
     "evalue": "name 'data_val' is not defined",
     "output_type": "error",
     "traceback": [
      "\u001b[0;31m---------------------------------------------------------------------------\u001b[0m",
      "\u001b[0;31mNameError\u001b[0m                                 Traceback (most recent call last)",
      "\u001b[0;32m<ipython-input-201-0ce35ed2cb3b>\u001b[0m in \u001b[0;36m<module>\u001b[0;34m()\u001b[0m\n\u001b[0;32m----> 1\u001b[0;31m \u001b[0mnp\u001b[0m\u001b[0;34m.\u001b[0m\u001b[0marray\u001b[0m\u001b[0;34m(\u001b[0m\u001b[0mdata_val\u001b[0m\u001b[0;34m)\u001b[0m\u001b[0;34m[\u001b[0m\u001b[0;36m0\u001b[0m\u001b[0;34m,\u001b[0m\u001b[0;34m:\u001b[0m\u001b[0;34m]\u001b[0m\u001b[0;34m\u001b[0m\u001b[0m\n\u001b[0m",
      "\u001b[0;31mNameError\u001b[0m: name 'data_val' is not defined"
     ]
    }
   ],
   "source": [
    "np.array(data_val)[0,:]"
   ]
  },
  {
   "cell_type": "code",
   "execution_count": 29,
   "metadata": {},
   "outputs": [
    {
     "name": "stdout",
     "output_type": "stream",
     "text": [
      "[ 1.  2.  3.  4.  5.]\n"
     ]
    }
   ],
   "source": [
    "f = np.array(linspace(1,5,5))\n",
    "print f"
   ]
  },
  {
   "cell_type": "code",
   "execution_count": 211,
   "metadata": {},
   "outputs": [
    {
     "ename": "IndexError",
     "evalue": "too many indices for array",
     "output_type": "error",
     "traceback": [
      "\u001b[0;31m---------------------------------------------------------------------------\u001b[0m",
      "\u001b[0;31mIndexError\u001b[0m                                Traceback (most recent call last)",
      "\u001b[0;32m<ipython-input-211-fe29f56badcf>\u001b[0m in \u001b[0;36m<module>\u001b[0;34m()\u001b[0m\n\u001b[0;32m----> 1\u001b[0;31m \u001b[0mnp\u001b[0m\u001b[0;34m.\u001b[0m\u001b[0marray\u001b[0m\u001b[0;34m(\u001b[0m\u001b[0mf\u001b[0m\u001b[0;34m)\u001b[0m\u001b[0;34m[\u001b[0m\u001b[0;36m0\u001b[0m\u001b[0;34m,\u001b[0m\u001b[0;34m:\u001b[0m\u001b[0;34m]\u001b[0m\u001b[0;34m\u001b[0m\u001b[0m\n\u001b[0m",
      "\u001b[0;31mIndexError\u001b[0m: too many indices for array"
     ]
    }
   ],
   "source": [
    "np.array(f)[0,:]"
   ]
  },
  {
   "cell_type": "code",
   "execution_count": 220,
   "metadata": {
    "collapsed": true
   },
   "outputs": [],
   "source": [
    "linspace?"
   ]
  },
  {
   "cell_type": "code",
   "execution_count": 243,
   "metadata": {
    "collapsed": true
   },
   "outputs": [],
   "source": [
    "np.convolve?\n"
   ]
  },
  {
   "cell_type": "code",
   "execution_count": 242,
   "metadata": {},
   "outputs": [
    {
     "ename": "NameError",
     "evalue": "name 'wert' is not defined",
     "output_type": "error",
     "traceback": [
      "\u001b[0;31m---------------------------------------------------------------------------\u001b[0m",
      "\u001b[0;31mNameError\u001b[0m                                 Traceback (most recent call last)",
      "\u001b[0;32m<ipython-input-242-066f2da8034b>\u001b[0m in \u001b[0;36m<module>\u001b[0;34m()\u001b[0m\n\u001b[1;32m      2\u001b[0m \u001b[0mds\u001b[0m \u001b[0;34m=\u001b[0m \u001b[0mnp\u001b[0m\u001b[0;34m.\u001b[0m\u001b[0marray\u001b[0m\u001b[0;34m(\u001b[0m\u001b[0mlinspace\u001b[0m\u001b[0;34m(\u001b[0m\u001b[0;36m1\u001b[0m\u001b[0;34m,\u001b[0m\u001b[0;36m5\u001b[0m\u001b[0;34m,\u001b[0m\u001b[0;36m3\u001b[0m\u001b[0;34m)\u001b[0m\u001b[0;34m)\u001b[0m\u001b[0;34m\u001b[0m\u001b[0m\n\u001b[1;32m      3\u001b[0m \u001b[0mmittelwert\u001b[0m \u001b[0;34m=\u001b[0m \u001b[0;36m10\u001b[0m\u001b[0;34m\u001b[0m\u001b[0m\n\u001b[0;32m----> 4\u001b[0;31m \u001b[0mgemittelterWert\u001b[0m \u001b[0;34m=\u001b[0m \u001b[0mnp\u001b[0m\u001b[0;34m.\u001b[0m\u001b[0mconvolve\u001b[0m\u001b[0;34m(\u001b[0m\u001b[0mwert\u001b[0m\u001b[0;34m,\u001b[0m \u001b[0mnp\u001b[0m\u001b[0;34m.\u001b[0m\u001b[0mones\u001b[0m\u001b[0;34m(\u001b[0m\u001b[0mmittelwert\u001b[0m\u001b[0;34m)\u001b[0m\u001b[0;34m/\u001b[0m\u001b[0mmittelwert\u001b[0m\u001b[0;34m,\u001b[0m \u001b[0;34m'same'\u001b[0m\u001b[0;34m)\u001b[0m\u001b[0;34m\u001b[0m\u001b[0m\n\u001b[0m",
      "\u001b[0;31mNameError\u001b[0m: name 'wert' is not defined"
     ]
    }
   ],
   "source": [
    "#mean\n",
    "ds = np.array(linspace(1,5,3))\n",
    "mittelwert = 1\n",
    "gemittelterWert = np.convolve(wert, np.ones(mittelwert)/mittelwert, 'same')"
   ]
  },
  {
   "cell_type": "code",
   "execution_count": 44,
   "metadata": {
    "collapsed": true
   },
   "outputs": [],
   "source": [
    "np.zeros?"
   ]
  },
  {
   "cell_type": "code",
   "execution_count": 86,
   "metadata": {},
   "outputs": [
    {
     "data": {
      "text/plain": [
       "4050"
      ]
     },
     "execution_count": 86,
     "metadata": {},
     "output_type": "execute_result"
    }
   ],
   "source": [
    "np.argmin(di)/4"
   ]
  },
  {
   "cell_type": "code",
   "execution_count": 76,
   "metadata": {
    "collapsed": true
   },
   "outputs": [],
   "source": [
    "min?"
   ]
  },
  {
   "cell_type": "code",
   "execution_count": 106,
   "metadata": {
    "collapsed": true
   },
   "outputs": [],
   "source": [
    "plot?"
   ]
  },
  {
   "cell_type": "code",
   "execution_count": 176,
   "metadata": {},
   "outputs": [
    {
     "data": {
      "text/plain": [
       "8700"
      ]
     },
     "execution_count": 176,
     "metadata": {},
     "output_type": "execute_result"
    }
   ],
   "source": [
    "33000 - 24300"
   ]
  },
  {
   "cell_type": "code",
   "execution_count": null,
   "metadata": {
    "collapsed": true
   },
   "outputs": [],
   "source": [
    "#deleted parts:\n",
    "\n",
    "   # if sweep == 'V':\n",
    "        \n",
    "   #     print 'test'\n",
    "        \n",
    "        \n",
    "        \n",
    "    \n",
    "   # elif sweep == 'I':\n",
    "        \n",
    "#        dv_down_pos_flip = np.flip(dv_down_pos,0)\n",
    "#        di_down_pos_flip = np.flip(di_down_pos,0)\n",
    "        \n",
    "#        spline_2 = UnivariateSpline(di_down_pos_flip,dv_down_pos_flip,k=5,s=0.000)\n",
    "#        x_range_2 = linspace(di_down_pos_flip[0],di_down_pos_flip[-1],1000)\n",
    "#        spline_2_2d = spline_2.derivative(n=1)\n",
    "        #plot(spline_2(x_range_2),x_range_2)\n",
    "        \n",
    "#        plot(x_range_2, spline_2_2d(x_range_2))\n",
    "\n",
    "\n",
    "\n",
    "\n",
    "\n",
    "\n",
    "\n"
   ]
  }
 ],
 "metadata": {
  "kernelspec": {
   "display_name": "Python [conda root]",
   "language": "python",
   "name": "conda-root-py"
  },
  "language_info": {
   "codemirror_mode": {
    "name": "ipython",
    "version": 2
   },
   "file_extension": ".py",
   "mimetype": "text/x-python",
   "name": "python",
   "nbconvert_exporter": "python",
   "pygments_lexer": "ipython2",
   "version": "2.7.13"
  }
 },
 "nbformat": 4,
 "nbformat_minor": 2
}
